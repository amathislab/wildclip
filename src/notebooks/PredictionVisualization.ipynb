{
 "cells": [
  {
   "cell_type": "markdown",
   "id": "0",
   "metadata": {},
   "source": [
    " WildCLIP by Gabeff et al.  \n",
    "© ECEO and A. Mathis Lab  \n",
    "https://github.com/amathislab/wildclip   \n",
    "\n",
    "Licensed under GNU Lesser General Public License v3.0\n"
   ]
  },
  {
   "cell_type": "markdown",
   "id": "1",
   "metadata": {},
   "source": [
    "# Visualization of prediction pass over a folder of images\n",
    "\n",
    "Given a prediction file, visualizes the most similar images to the provided queries"
   ]
  },
  {
   "cell_type": "code",
   "execution_count": null,
   "id": "2",
   "metadata": {},
   "outputs": [],
   "source": [
    "from pathlib import Path\n",
    "import pandas as pd\n",
    "from matplotlib import pyplot as plt\n",
    "import sys\n",
    "sys.path.append(\"../\")\n",
    "\n",
    "from utils import visualization as viz"
   ]
  },
  {
   "cell_type": "code",
   "execution_count": null,
   "id": "3",
   "metadata": {},
   "outputs": [],
   "source": [
    "# Path to output csv from predict_clip.py\n",
    "predictions_file = Path(\"/path/to/prediction.csv\")"
   ]
  },
  {
   "cell_type": "code",
   "execution_count": null,
   "id": "4",
   "metadata": {},
   "outputs": [],
   "source": [
    "predictions_df = pd.read_csv(predictions_file, index_col=0)\n",
    "queries = predictions_df.columns.values\n",
    "print(\"Number of queries: \", len(queries))"
   ]
  },
  {
   "cell_type": "markdown",
   "id": "5",
   "metadata": {
    "tags": []
   },
   "source": [
    "## Image Retrieval Visualization"
   ]
  },
  {
   "cell_type": "code",
   "execution_count": null,
   "id": "6",
   "metadata": {},
   "outputs": [],
   "source": [
    "#Be mindful with the number of queries to plot\n",
    "for query in sorted(queries):\n",
    "    print(query)\n",
    "\n",
    "    #We drop duplicates at the event level -- we are interested in retrieving separate events\n",
    "    top_10_annotations = predictions_df.sort_values(query, ascending=False).head(10)\n",
    "    preds = top_10_annotations[query].values\n",
    "    \n",
    "    fig, axs = plt.subplots(2, \n",
    "                            5,\n",
    "                            figsize=(4*5, 4*2), \n",
    "                            gridspec_kw={\"wspace\":0.01, \"hspace\":0.01},\n",
    "                            squeeze=True)\n",
    "    axs = axs.flatten()\n",
    "    for i, row in enumerate(top_10_annotations.itertuples()):\n",
    "        file_name = row.Index\n",
    "        img = viz.open_img(file_name, max_dims=300)\n",
    "        axs[i].set_axis_off()\n",
    "        axs[i].imshow(img, aspect=\"equal\") \n",
    "        axs[i].patch.set_linewidth('10')  \n",
    "        axs[i].text(20, 20, str(round(preds[i], 3)), backgroundcolor=\"w\")\n",
    "        axs[i].text(20, 370, Path(file_name).stem, backgroundcolor=\"w\")\n",
    "    plt.show()"
   ]
  },
  {
   "cell_type": "code",
   "execution_count": null,
   "id": "7",
   "metadata": {},
   "outputs": [],
   "source": []
  }
 ],
 "metadata": {
  "kernelspec": {
   "display_name": "Python 3 (ipykernel)",
   "language": "python",
   "name": "python3"
  },
  "language_info": {
   "codemirror_mode": {
    "name": "ipython",
    "version": 3
   },
   "file_extension": ".py",
   "mimetype": "text/x-python",
   "name": "python",
   "nbconvert_exporter": "python",
   "pygments_lexer": "ipython3",
   "version": "3.9.18"
  }
 },
 "nbformat": 4,
 "nbformat_minor": 5
}
